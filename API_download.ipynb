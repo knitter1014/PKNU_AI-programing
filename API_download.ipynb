{
 "cells": [
  {
   "cell_type": "code",
   "execution_count": 5,
   "metadata": {},
   "outputs": [
    {
     "name": "stdout",
     "output_type": "stream",
     "text": [
      "사진 1: https://farm66.staticflickr.com/65535/54122972916_14b2be1f1c.jpg\n",
      "사진 2: https://farm66.staticflickr.com/65535/54118965383_ddefa4e244.jpg\n",
      "사진 3: https://farm66.staticflickr.com/65535/54112323515_894e564492.jpg\n",
      "사진 4: https://farm66.staticflickr.com/65535/54106310750_47e4f7bde6.jpg\n",
      "사진 5: https://farm66.staticflickr.com/65535/54106115183_0806071515.jpg\n"
     ]
    }
   ],
   "source": [
    "import requests\n",
    "\n",
    "def get_flickr_photos(api_key, tags=\"infrared,sky\", per_page=5, page=1):\n",
    "    # Flickr API 엔드포인트\n",
    "    url = \"https://api.flickr.com/services/rest/\"\n",
    "\n",
    "    # API 요청에 필요한 매개변수 설정\n",
    "    params = {\n",
    "        \"method\": \"flickr.photos.search\",\n",
    "        \"api_key\": api_key,\n",
    "        \"tags\": tags,              # 태그 기반 검색\n",
    "        \"tag_mode\": \"all\",          # 모든 태그가 포함된 사진만 검색\n",
    "        \"format\": \"json\",\n",
    "        \"nojsoncallback\": 1,        # JSON으로 반환\n",
    "        \"per_page\": per_page,       # 한 페이지에 가져올 사진 수\n",
    "        \"page\": page                # 페이지 번호\n",
    "    }\n",
    "\n",
    "    # API 요청 보내기\n",
    "    response = requests.get(url, params=params)\n",
    "    \n",
    "    # 요청 성공 여부 확인\n",
    "    if response.status_code == 200:\n",
    "        data = response.json()\n",
    "        photos = data.get(\"photos\", {}).get(\"photo\", [])\n",
    "        \n",
    "        # 사진 URL 리스트 생성\n",
    "        photo_urls = []\n",
    "        for photo in photos:\n",
    "            farm_id = photo[\"farm\"]\n",
    "            server_id = photo[\"server\"]\n",
    "            photo_id = photo[\"id\"]\n",
    "            secret = photo[\"secret\"]\n",
    "\n",
    "            # Flickr 사진 URL 포맷\n",
    "            photo_url = f\"https://farm{farm_id}.staticflickr.com/{server_id}/{photo_id}_{secret}.jpg\"\n",
    "            photo_urls.append(photo_url)\n",
    "\n",
    "        return photo_urls\n",
    "    else:\n",
    "        print(\"Flickr API 요청 실패:\", response.status_code)\n",
    "        return []\n",
    "\n",
    "# API 키와 검색어 입력\n",
    "api_key = \"96cb5367bb64161f18c27ba57e5d3d2f\"\n",
    "\n",
    "# 사진 URL 가져오기\n",
    "photo_urls = get_flickr_photos(api_key)\n",
    "\n",
    "# 사진 URL 출력\n",
    "for i, url in enumerate(photo_urls, start=1):\n",
    "    print(f\"사진 {i}: {url}\")"
   ]
  }
 ],
 "metadata": {
  "kernelspec": {
   "display_name": "assignment",
   "language": "python",
   "name": "python3"
  },
  "language_info": {
   "codemirror_mode": {
    "name": "ipython",
    "version": 3
   },
   "file_extension": ".py",
   "mimetype": "text/x-python",
   "name": "python",
   "nbconvert_exporter": "python",
   "pygments_lexer": "ipython3",
   "version": "3.10.13"
  }
 },
 "nbformat": 4,
 "nbformat_minor": 2
}
