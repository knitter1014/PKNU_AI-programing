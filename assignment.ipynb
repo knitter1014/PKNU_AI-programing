{
 "cells": [
  {
   "cell_type": "code",
   "execution_count": 11,
   "metadata": {},
   "outputs": [],
   "source": [
    "import torch\n",
    "import torchvision\n",
    "import torchvision.transforms as transforms\n",
    "import numpy as np\n",
    "from sklearn.model_selection import KFold"
   ]
  },
  {
   "cell_type": "markdown",
   "metadata": {},
   "source": [
    "# Seed"
   ]
  },
  {
   "cell_type": "code",
   "execution_count": 12,
   "metadata": {},
   "outputs": [],
   "source": [
    "seed_number = 486\n",
    "\n",
    "torch.manual_seed(seed_number)\n",
    "torch.cuda.manual_seed(seed_number)\n",
    "torch.cuda.manual_seed_all(seed_number) # if use multi-GPU\n",
    "torch.backends.cudnn.deterministic = True\n",
    "torch.backends.cudnn.benchmark = False\n",
    "#np.random.seed(seed_number)\n",
    "#random.seed(seed_number)"
   ]
  },
  {
   "cell_type": "markdown",
   "metadata": {},
   "source": [
    "# Data"
   ]
  },
  {
   "cell_type": "code",
   "execution_count": 13,
   "metadata": {},
   "outputs": [
    {
     "ename": "SyntaxError",
     "evalue": "invalid syntax (307590590.py, line 1)",
     "output_type": "error",
     "traceback": [
      "\u001b[1;36m  Cell \u001b[1;32mIn[13], line 1\u001b[1;36m\u001b[0m\n\u001b[1;33m    cloud_ld=\u001b[0m\n\u001b[1;37m             ^\u001b[0m\n\u001b[1;31mSyntaxError\u001b[0m\u001b[1;31m:\u001b[0m invalid syntax\n"
     ]
    }
   ],
   "source": [
    "cloud_ld=\n",
    "cloud_ld_test="
   ]
  },
  {
   "cell_type": "code",
   "execution_count": 14,
   "metadata": {},
   "outputs": [
    {
     "ename": "NameError",
     "evalue": "name 'cloud_ld' is not defined",
     "output_type": "error",
     "traceback": [
      "\u001b[1;31m---------------------------------------------------------------------------\u001b[0m",
      "\u001b[1;31mNameError\u001b[0m                                 Traceback (most recent call last)",
      "Cell \u001b[1;32mIn[14], line 1\u001b[0m\n\u001b[1;32m----> 1\u001b[0m X      \u001b[38;5;241m=\u001b[39m \u001b[43mcloud_ld\u001b[49m\n\u001b[0;32m      2\u001b[0m X_test \u001b[38;5;241m=\u001b[39m cloud_ld_test\n\u001b[0;32m      4\u001b[0m X      \u001b[38;5;241m=\u001b[39m torch\u001b[38;5;241m.\u001b[39mtensor(X, dtype\u001b[38;5;241m=\u001b[39mtorch\u001b[38;5;241m.\u001b[39muint8)\n",
      "\u001b[1;31mNameError\u001b[0m: name 'cloud_ld' is not defined"
     ]
    }
   ],
   "source": [
    "X      = cloud_ld\n",
    "X_test = cloud_ld_test\n",
    "\n",
    "X      = torch.tensor(X, dtype=torch.uint8)\n",
    "X_test = torch.tensor(X_test, dtype=torch.uint8)\n",
    "\n",
    "print(X.shape)\n",
    "print(X_test.shape)"
   ]
  },
  {
   "cell_type": "code",
   "execution_count": null,
   "metadata": {},
   "outputs": [],
   "source": [
    "y      = cloud_ld.targets\n",
    "y_test = cloud_ld_test.targets\n",
    "\n",
    "y      = torch.tensor(y, dtype=torch.uint8)\n",
    "y_test = torch.tensor(y_test, dtype=torch.uint8)\n",
    "\n",
    "print(y.shape)\n",
    "print(y_test.shape)"
   ]
  },
  {
   "cell_type": "markdown",
   "metadata": {},
   "source": [
    "# 데이터 크기, 형태 확인후 넣을지말지 결정"
   ]
  },
  {
   "cell_type": "code",
   "execution_count": null,
   "metadata": {},
   "outputs": [],
   "source": [
    "X = X.permute(0,3,1,2)\n",
    "X_test = X_test.permute(0,3,1,2)\n",
    "\n",
    "print(X.shape)\n",
    "print(X_test.shape)"
   ]
  },
  {
   "cell_type": "markdown",
   "metadata": {},
   "source": [
    "# Nomalization"
   ]
  },
  {
   "cell_type": "code",
   "execution_count": null,
   "metadata": {},
   "outputs": [],
   "source": [
    "X = X / 255.\n",
    "X_test  = X_test / 255.\n",
    "\n",
    "print(X.shape)\n",
    "print(X_test.shape)"
   ]
  },
  {
   "cell_type": "markdown",
   "metadata": {},
   "source": [
    "# Sampling"
   ]
  },
  {
   "cell_type": "code",
   "execution_count": null,
   "metadata": {},
   "outputs": [
    {
     "ename": "NameError",
     "evalue": "name 'X' is not defined",
     "output_type": "error",
     "traceback": [
      "\u001b[1;31m---------------------------------------------------------------------------\u001b[0m",
      "\u001b[1;31mNameError\u001b[0m                                 Traceback (most recent call last)",
      "Cell \u001b[1;32mIn[10], line 2\u001b[0m\n\u001b[0;32m      1\u001b[0m \u001b[38;5;28;01mfrom\u001b[39;00m \u001b[38;5;21;01msklearn\u001b[39;00m\u001b[38;5;21;01m.\u001b[39;00m\u001b[38;5;21;01mmodel_selection\u001b[39;00m \u001b[38;5;28;01mimport\u001b[39;00m train_test_split\n\u001b[1;32m----> 2\u001b[0m X_train, X_valid, y_train, y_valid \u001b[38;5;241m=\u001b[39m train_test_split(\u001b[43mX\u001b[49m, y, test_size\u001b[38;5;241m=\u001b[39m\u001b[38;5;241m0.2\u001b[39m, random_state\u001b[38;5;241m=\u001b[39mseed_number)\n\u001b[0;32m      4\u001b[0m \u001b[38;5;28mprint\u001b[39m(X_train\u001b[38;5;241m.\u001b[39mshape, y_train\u001b[38;5;241m.\u001b[39mshape)\n\u001b[0;32m      5\u001b[0m \u001b[38;5;28mprint\u001b[39m(X_valid\u001b[38;5;241m.\u001b[39mshape, y_valid\u001b[38;5;241m.\u001b[39mshape)\n",
      "\u001b[1;31mNameError\u001b[0m: name 'X' is not defined"
     ]
    }
   ],
   "source": [
    "from sklearn.model_selection import train_test_split\n",
    "X_train, X_valid, y_train, y_valid = train_test_split(X, y, test_size=0.2, random_state=seed_number)\n",
    "\n",
    "print(X_train.shape, y_train.shape)\n",
    "print(X_valid.shape, y_valid.shape)"
   ]
  },
  {
   "cell_type": "markdown",
   "metadata": {},
   "source": [
    "# CPU possiblity"
   ]
  },
  {
   "cell_type": "code",
   "execution_count": null,
   "metadata": {},
   "outputs": [],
   "source": [
    "device = 'cuda' if torch.cuda.is_available() else 'cpu'\n",
    "print(device)\n",
    "\n",
    "X_train = X_train.to(device=device)\n",
    "X_valid = X_valid.to(device=device)\n",
    "X_test  = X_test.to(device=device)\n",
    "\n",
    "y_train = y_train.to(device=device)\n",
    "y_valid = y_valid.to(device=device)\n",
    "y_test  = y_test.to(device=device)"
   ]
  },
  {
   "cell_type": "markdown",
   "metadata": {},
   "source": [
    "# Batch size (이후 수정)"
   ]
  },
  {
   "cell_type": "code",
   "execution_count": null,
   "metadata": {},
   "outputs": [],
   "source": [
    "train_ds = torch.utils.data.TensorDataset(X_train, y_train)\n",
    "valid_ds = torch.utils.data.TensorDataset(X_valid, y_valid)\n",
    "\n",
    "train_loader = torch.utils.data.DataLoader(train_ds, batch_size=32, shuffle=True)\n",
    "valid_loader = torch.utils.data.DataLoader(valid_ds, batch_size=32, shuffle=False)"
   ]
  },
  {
   "cell_type": "markdown",
   "metadata": {},
   "source": [
    "# Model (layer1 size 수정 필요)"
   ]
  },
  {
   "cell_type": "code",
   "execution_count": null,
   "metadata": {},
   "outputs": [],
   "source": [
    "class Net(torch.nn.Module):\n",
    "    def __init__(self):\n",
    "        super(Net, self).__init__()\n",
    "        \n",
    "        self.conv_1 = torch.nn.Conv2d(1, 6, 5)\n",
    "        self.conv_2 = torch.nn.Conv2d(6, 16, 5)\n",
    "        self.pool   = torch.nn.MaxPool2d(2, 2)\n",
    "        \n",
    "        self.fully_connected_layer_1 = torch.nn.Linear(16*5*5, 120)\n",
    "        self.fully_connected_layer_2 = torch.nn.Linear(120, 84)\n",
    "        self.fully_connected_layer_3 = torch.nn.Linear(84,  10)\n",
    "        \n",
    "    def forward(self, xb):\n",
    "        xb = xb.unsqueeze(1)\n",
    "        \n",
    "        out = self.conv_1(xb)\n",
    "        out = torch.nn.ReLU()(out)\n",
    "        out = self.pool(out)\n",
    "        \n",
    "        out = self.conv_2(out)\n",
    "        out = torch.nn.ReLU()(out)\n",
    "        out = self.pool(out)\n",
    "        \n",
    "        out = torch.flatten(out, 1)\n",
    "        \n",
    "        out = self.fully_connected_layer_1(out)\n",
    "        out = torch.nn.ReLU()(out)\n",
    "        out = self.fully_connected_layer_2(out)\n",
    "        out = torch.nn.ReLU()(out)\n",
    "        out = self.fully_connected_layer_3(out)\n",
    "        \n",
    "        return out"
   ]
  },
  {
   "cell_type": "code",
   "execution_count": null,
   "metadata": {},
   "outputs": [],
   "source": [
    "model = Net().to(device)\n",
    "print(model)"
   ]
  },
  {
   "cell_type": "code",
   "execution_count": null,
   "metadata": {},
   "outputs": [],
   "source": [
    "from sklearn.model_selection import KFold"
   ]
  },
  {
   "cell_type": "markdown",
   "metadata": {},
   "source": [
    "# Cost loss"
   ]
  },
  {
   "cell_type": "code",
   "execution_count": null,
   "metadata": {},
   "outputs": [],
   "source": [
    "criterion = torch.nn.CrossEntropyLoss()"
   ]
  },
  {
   "cell_type": "markdown",
   "metadata": {},
   "source": [
    "# Optimizer"
   ]
  },
  {
   "cell_type": "code",
   "execution_count": null,
   "metadata": {},
   "outputs": [],
   "source": [
    "optimizer = torch.optim.Adam(model.parameters(), lr=0.001)"
   ]
  },
  {
   "cell_type": "code",
   "execution_count": null,
   "metadata": {},
   "outputs": [],
   "source": [
    "import time \n",
    "\n",
    "for epoch in range(3):\n",
    "    start = time.time()\n",
    "    train_loss, train_count = 0., 0.\n",
    "    valid_loss_history = []\n",
    "    train_loss_history = []\n",
    "    is_train=True\n",
    "    \n",
    "    for xb, yb in train_loader:\n",
    "        prediction = model(xb)\n",
    "        loss = criterion(prediction, yb)\n",
    "        train_loss += loss.item()*len(yb)\n",
    "        train_count += len(yb)\n",
    "        \n",
    "        loss.backward()\n",
    "        optimizer.step()\n",
    "        optimizer.zero_grad()\n",
    "    \n",
    "        \n",
    "    with torch.no_grad():\n",
    "        valid_loss = 0\n",
    "        valid_accuracy, valid_count = 0., 0.\n",
    "        \n",
    "        for xb, yb in valid_loader:\n",
    "            prediction = model(xb)\n",
    "            valid_loss += criterion(prediction, yb)*len(yb)\n",
    "            valid_accuracy += prediction.data.max(1)[1].eq(yb.data).sum()\n",
    "            valid_count += len(yb)\n",
    "        \n",
    "    train_loss /= train_count\n",
    "    valid_loss /= valid_count    \n",
    "    valid_accuracy /= valid_count\n",
    "    \n",
    "    train_loss_history.append(train_loss)\n",
    "    valid_loss_history.append(valid_loss)\n",
    "    \n",
    "    if min(valid_loss_history) == valid_loss:\n",
    "        early_stopping = 0\n",
    "        \n",
    "        torch.save({\n",
    "            'epoch': epoch,\n",
    "            'model_state_dict': model.state_dict(),\n",
    "            'optimizer_state_dict': optimizer.state_dict(),\n",
    "            'loss': valid_loss,\n",
    "        }, './saved_model.pt')\n",
    "        \n",
    "    if early_stopping == 3:\n",
    "        is_train = False\n",
    "            \n",
    "    print(f\"======== Epoch {epoch+1} =======\")\n",
    "    print(f\"Loss => train:{train_loss:.5f}, valid:{valid_loss:.5f}\")\n",
    "    print(f\"Accuracy => {valid_accuracy*100:.2f}%, Elapsed time => {time.time()-start:.3f} sec\")\n",
    "    print(\"=======================================\\n\")"
   ]
  }
 ],
 "metadata": {
  "kernelspec": {
   "display_name": "assignment",
   "language": "python",
   "name": "python3"
  },
  "language_info": {
   "codemirror_mode": {
    "name": "ipython",
    "version": 3
   },
   "file_extension": ".py",
   "mimetype": "text/x-python",
   "name": "python",
   "nbconvert_exporter": "python",
   "pygments_lexer": "ipython3",
   "version": "3.10.13"
  }
 },
 "nbformat": 4,
 "nbformat_minor": 2
}
