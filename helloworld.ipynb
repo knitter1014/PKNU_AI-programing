{
 "cells": [
  {
   "cell_type": "code",
   "execution_count": 1,
   "metadata": {},
   "outputs": [
    {
     "name": "stdout",
     "output_type": "stream",
     "text": [
      "Defaulting to user installation because normal site-packages is not writeable\n",
      "Collecting opencv-python\n",
      "  Downloading opencv_python-4.10.0.84-cp37-abi3-win_amd64.whl.metadata (20 kB)\n",
      "Requirement already satisfied: numpy in c:\\programdata\\anaconda3\\envs\\assignment\\lib\\site-packages (1.26.4)\n",
      "Requirement already satisfied: matplotlib in c:\\programdata\\anaconda3\\envs\\assignment\\lib\\site-packages (3.9.2)\n",
      "Requirement already satisfied: contourpy>=1.0.1 in c:\\programdata\\anaconda3\\envs\\assignment\\lib\\site-packages (from matplotlib) (1.2.0)\n",
      "Requirement already satisfied: cycler>=0.10 in c:\\programdata\\anaconda3\\envs\\assignment\\lib\\site-packages (from matplotlib) (0.11.0)\n",
      "Requirement already satisfied: fonttools>=4.22.0 in c:\\programdata\\anaconda3\\envs\\assignment\\lib\\site-packages (from matplotlib) (4.51.0)\n",
      "Requirement already satisfied: kiwisolver>=1.3.1 in c:\\programdata\\anaconda3\\envs\\assignment\\lib\\site-packages (from matplotlib) (1.4.4)\n",
      "Requirement already satisfied: packaging>=20.0 in c:\\programdata\\anaconda3\\envs\\assignment\\lib\\site-packages (from matplotlib) (24.1)\n",
      "Requirement already satisfied: pillow>=8 in c:\\programdata\\anaconda3\\envs\\assignment\\lib\\site-packages (from matplotlib) (10.4.0)\n",
      "Requirement already satisfied: pyparsing>=2.3.1 in c:\\programdata\\anaconda3\\envs\\assignment\\lib\\site-packages (from matplotlib) (3.1.2)\n",
      "Requirement already satisfied: python-dateutil>=2.7 in c:\\programdata\\anaconda3\\envs\\assignment\\lib\\site-packages (from matplotlib) (2.9.0.post0)\n",
      "Requirement already satisfied: six>=1.5 in c:\\programdata\\anaconda3\\envs\\assignment\\lib\\site-packages (from python-dateutil>=2.7->matplotlib) (1.16.0)\n",
      "Downloading opencv_python-4.10.0.84-cp37-abi3-win_amd64.whl (38.8 MB)\n",
      "   ---------------------------------------- 0.0/38.8 MB ? eta -:--:--\n",
      "   -- ------------------------------------- 2.1/38.8 MB 11.8 MB/s eta 0:00:04\n",
      "   ---- ----------------------------------- 3.9/38.8 MB 9.8 MB/s eta 0:00:04\n",
      "   ------ --------------------------------- 6.3/38.8 MB 10.4 MB/s eta 0:00:04\n",
      "   --------- ------------------------------ 8.9/38.8 MB 10.6 MB/s eta 0:00:03\n",
      "   ----------- ---------------------------- 11.3/38.8 MB 10.8 MB/s eta 0:00:03\n",
      "   -------------- ------------------------- 13.9/38.8 MB 11.0 MB/s eta 0:00:03\n",
      "   ----------------- ---------------------- 16.5/38.8 MB 11.1 MB/s eta 0:00:03\n",
      "   ----------------- ---------------------- 16.8/38.8 MB 11.1 MB/s eta 0:00:02\n",
      "   ------------------- -------------------- 18.6/38.8 MB 9.7 MB/s eta 0:00:03\n",
      "   ---------------------- ----------------- 21.5/38.8 MB 10.0 MB/s eta 0:00:02\n",
      "   ------------------------ --------------- 23.9/38.8 MB 10.1 MB/s eta 0:00:02\n",
      "   --------------------------- ------------ 26.7/38.8 MB 10.3 MB/s eta 0:00:02\n",
      "   ----------------------------- ---------- 29.1/38.8 MB 10.4 MB/s eta 0:00:01\n",
      "   -------------------------------- ------- 31.7/38.8 MB 10.5 MB/s eta 0:00:01\n",
      "   ----------------------------------- ---- 34.3/38.8 MB 10.6 MB/s eta 0:00:01\n",
      "   ------------------------------------- -- 36.7/38.8 MB 10.6 MB/s eta 0:00:01\n",
      "   ---------------------------------------  38.8/38.8 MB 10.7 MB/s eta 0:00:01\n",
      "   ---------------------------------------- 38.8/38.8 MB 10.2 MB/s eta 0:00:00\n",
      "Installing collected packages: opencv-python\n",
      "Successfully installed opencv-python-4.10.0.84\n",
      "Note: you may need to restart the kernel to use updated packages.\n"
     ]
    },
    {
     "name": "stderr",
     "output_type": "stream",
     "text": [
      "WARNING: Ignoring invalid distribution -ensorflow-intel (c:\\users\\이영진\\appdata\\roaming\\python\\python310\\site-packages)\n",
      "WARNING: Ignoring invalid distribution -ensorflow-intel (c:\\users\\이영진\\appdata\\roaming\\python\\python310\\site-packages)\n",
      "WARNING: Ignoring invalid distribution -ensorflow-intel (c:\\users\\이영진\\appdata\\roaming\\python\\python310\\site-packages)\n",
      "WARNING: Ignoring invalid distribution -ensorflow-intel (c:\\users\\이영진\\appdata\\roaming\\python\\python310\\site-packages)\n",
      "WARNING: Ignoring invalid distribution -ensorflow-intel (c:\\users\\이영진\\appdata\\roaming\\python\\python310\\site-packages)\n",
      "WARNING: Ignoring invalid distribution -ensorflow-intel (c:\\users\\이영진\\appdata\\roaming\\python\\python310\\site-packages)\n"
     ]
    }
   ],
   "source": [
    "pip install opencv-python numpy matplotlib"
   ]
  },
  {
   "cell_type": "code",
   "execution_count": 4,
   "metadata": {},
   "outputs": [],
   "source": [
    "# 데이터 로드 및 전처리\n",
    "def load_labels_from_json(label_file):\n",
    "    with open(label_file, 'r') as f:\n",
    "        data = json.load(f)\n",
    "    \n",
    "    image_paths = []\n",
    "    labels = []\n",
    "    for file_info in data['files']:\n",
    "        image_paths.append(file_info['path'])\n",
    "        labels.append(file_info['label']['label'])\n",
    "    \n",
    "    return image_paths, labels"
   ]
  },
  {
   "cell_type": "code",
   "execution_count": 5,
   "metadata": {},
   "outputs": [],
   "source": [
    "def load_data(training_dir, testing_dir, label_file, target_size=(150, 150)):\n",
    "    # 레이블 로드\n",
    "    image_paths, labels = load_labels_from_json(label_file)\n",
    "    \n",
    "    # 훈련 데이터와 테스트 데이터 분리\n",
    "    train_image_paths = [path for path in image_paths if path.startswith('training')]\n",
    "    test_image_paths = [path for path in image_paths if path.startswith('testing')]\n",
    "    \n",
    "    train_labels = [labels[i] for i, path in enumerate(image_paths) if path.startswith('training')]\n",
    "    test_labels = [labels[i] for i, path in enumerate(image_paths) if path.startswith('testing')]\n",
    "    \n",
    "    # 이미지 로드 및 레이블 인코딩\n",
    "    x_train, y_train, classes = load_images_from_paths(train_image_paths, train_labels, target_size)\n",
    "    x_test, y_test, _ = load_images_from_paths(test_image_paths, test_labels, target_size)\n",
    "    \n",
    "    y_train = to_categorical(y_train, len(classes))\n",
    "    y_test = to_categorical(y_test, len(classes))\n",
    "    \n",
    "    return (x_train, y_train), (x_test, y_test), len(classes)"
   ]
  },
  {
   "cell_type": "code",
   "execution_count": 7,
   "metadata": {},
   "outputs": [],
   "source": [
    "# 경로 설정\n",
    "training_dir = \"./training\"\n",
    "testing_dir = \"./testing\"\n",
    "label_file = \"./info.labels\""
   ]
  },
  {
   "cell_type": "code",
   "execution_count": 9,
   "metadata": {},
   "outputs": [
    {
     "ename": "FileNotFoundError",
     "evalue": "[Errno 2] No such file or directory: './info.labels'",
     "output_type": "error",
     "traceback": [
      "\u001b[1;31m---------------------------------------------------------------------------\u001b[0m",
      "\u001b[1;31mFileNotFoundError\u001b[0m                         Traceback (most recent call last)",
      "Cell \u001b[1;32mIn[9], line 6\u001b[0m\n\u001b[0;32m      3\u001b[0m \u001b[38;5;28;01mimport\u001b[39;00m \u001b[38;5;21;01mmatplotlib\u001b[39;00m\u001b[38;5;21;01m.\u001b[39;00m\u001b[38;5;21;01mpyplot\u001b[39;00m \u001b[38;5;28;01mas\u001b[39;00m \u001b[38;5;21;01mplt\u001b[39;00m\n\u001b[0;32m      5\u001b[0m \u001b[38;5;66;03m# 이미지 불러오기\u001b[39;00m\n\u001b[1;32m----> 6\u001b[0m image \u001b[38;5;241m=\u001b[39m cv2\u001b[38;5;241m.\u001b[39mimread(\u001b[43mload_data\u001b[49m\u001b[43m(\u001b[49m\u001b[43mtraining_dir\u001b[49m\u001b[43m,\u001b[49m\u001b[43m \u001b[49m\u001b[43mtesting_dir\u001b[49m\u001b[43m,\u001b[49m\u001b[43m \u001b[49m\u001b[43mlabel_file\u001b[49m\u001b[43m,\u001b[49m\u001b[43m \u001b[49m\u001b[43mtarget_size\u001b[49m\u001b[38;5;241;43m=\u001b[39;49m\u001b[43m(\u001b[49m\u001b[38;5;241;43m150\u001b[39;49m\u001b[43m,\u001b[49m\u001b[43m \u001b[49m\u001b[38;5;241;43m150\u001b[39;49m\u001b[43m)\u001b[49m\u001b[43m)\u001b[49m)  \u001b[38;5;66;03m# 이미지 파일 경로를 넣으세요.\u001b[39;00m\n\u001b[0;32m      7\u001b[0m image \u001b[38;5;241m=\u001b[39m cv2\u001b[38;5;241m.\u001b[39mcvtColor(image, cv2\u001b[38;5;241m.\u001b[39mCOLOR_BGR2RGB)  \u001b[38;5;66;03m# OpenCV는 기본적으로 BGR로 읽으므로 RGB로 변환\u001b[39;00m\n\u001b[0;32m      9\u001b[0m \u001b[38;5;66;03m# 이미지의 색상 채널을 추출\u001b[39;00m\n",
      "Cell \u001b[1;32mIn[5], line 3\u001b[0m, in \u001b[0;36mload_data\u001b[1;34m(training_dir, testing_dir, label_file, target_size)\u001b[0m\n\u001b[0;32m      1\u001b[0m \u001b[38;5;28;01mdef\u001b[39;00m \u001b[38;5;21mload_data\u001b[39m(training_dir, testing_dir, label_file, target_size\u001b[38;5;241m=\u001b[39m(\u001b[38;5;241m150\u001b[39m, \u001b[38;5;241m150\u001b[39m)):\n\u001b[0;32m      2\u001b[0m     \u001b[38;5;66;03m# 레이블 로드\u001b[39;00m\n\u001b[1;32m----> 3\u001b[0m     image_paths, labels \u001b[38;5;241m=\u001b[39m \u001b[43mload_labels_from_json\u001b[49m\u001b[43m(\u001b[49m\u001b[43mlabel_file\u001b[49m\u001b[43m)\u001b[49m\n\u001b[0;32m      5\u001b[0m     \u001b[38;5;66;03m# 훈련 데이터와 테스트 데이터 분리\u001b[39;00m\n\u001b[0;32m      6\u001b[0m     train_image_paths \u001b[38;5;241m=\u001b[39m [path \u001b[38;5;28;01mfor\u001b[39;00m path \u001b[38;5;129;01min\u001b[39;00m image_paths \u001b[38;5;28;01mif\u001b[39;00m path\u001b[38;5;241m.\u001b[39mstartswith(\u001b[38;5;124m'\u001b[39m\u001b[38;5;124mtraining\u001b[39m\u001b[38;5;124m'\u001b[39m)]\n",
      "Cell \u001b[1;32mIn[4], line 3\u001b[0m, in \u001b[0;36mload_labels_from_json\u001b[1;34m(label_file)\u001b[0m\n\u001b[0;32m      2\u001b[0m \u001b[38;5;28;01mdef\u001b[39;00m \u001b[38;5;21mload_labels_from_json\u001b[39m(label_file):\n\u001b[1;32m----> 3\u001b[0m     \u001b[38;5;28;01mwith\u001b[39;00m \u001b[38;5;28;43mopen\u001b[39;49m\u001b[43m(\u001b[49m\u001b[43mlabel_file\u001b[49m\u001b[43m,\u001b[49m\u001b[43m \u001b[49m\u001b[38;5;124;43m'\u001b[39;49m\u001b[38;5;124;43mr\u001b[39;49m\u001b[38;5;124;43m'\u001b[39;49m\u001b[43m)\u001b[49m \u001b[38;5;28;01mas\u001b[39;00m f:\n\u001b[0;32m      4\u001b[0m         data \u001b[38;5;241m=\u001b[39m json\u001b[38;5;241m.\u001b[39mload(f)\n\u001b[0;32m      6\u001b[0m     image_paths \u001b[38;5;241m=\u001b[39m []\n",
      "File \u001b[1;32mc:\\ProgramData\\anaconda3\\envs\\assignment\\lib\\site-packages\\IPython\\core\\interactiveshell.py:324\u001b[0m, in \u001b[0;36m_modified_open\u001b[1;34m(file, *args, **kwargs)\u001b[0m\n\u001b[0;32m    317\u001b[0m \u001b[38;5;28;01mif\u001b[39;00m file \u001b[38;5;129;01min\u001b[39;00m {\u001b[38;5;241m0\u001b[39m, \u001b[38;5;241m1\u001b[39m, \u001b[38;5;241m2\u001b[39m}:\n\u001b[0;32m    318\u001b[0m     \u001b[38;5;28;01mraise\u001b[39;00m \u001b[38;5;167;01mValueError\u001b[39;00m(\n\u001b[0;32m    319\u001b[0m         \u001b[38;5;124mf\u001b[39m\u001b[38;5;124m\"\u001b[39m\u001b[38;5;124mIPython won\u001b[39m\u001b[38;5;124m'\u001b[39m\u001b[38;5;124mt let you open fd=\u001b[39m\u001b[38;5;132;01m{\u001b[39;00mfile\u001b[38;5;132;01m}\u001b[39;00m\u001b[38;5;124m by default \u001b[39m\u001b[38;5;124m\"\u001b[39m\n\u001b[0;32m    320\u001b[0m         \u001b[38;5;124m\"\u001b[39m\u001b[38;5;124mas it is likely to crash IPython. If you know what you are doing, \u001b[39m\u001b[38;5;124m\"\u001b[39m\n\u001b[0;32m    321\u001b[0m         \u001b[38;5;124m\"\u001b[39m\u001b[38;5;124myou can use builtins\u001b[39m\u001b[38;5;124m'\u001b[39m\u001b[38;5;124m open.\u001b[39m\u001b[38;5;124m\"\u001b[39m\n\u001b[0;32m    322\u001b[0m     )\n\u001b[1;32m--> 324\u001b[0m \u001b[38;5;28;01mreturn\u001b[39;00m io_open(file, \u001b[38;5;241m*\u001b[39margs, \u001b[38;5;241m*\u001b[39m\u001b[38;5;241m*\u001b[39mkwargs)\n",
      "\u001b[1;31mFileNotFoundError\u001b[0m: [Errno 2] No such file or directory: './info.labels'"
     ]
    }
   ],
   "source": [
    "import cv2\n",
    "import numpy as np\n",
    "import matplotlib.pyplot as plt\n",
    "\n",
    "# 이미지 불러오기\n",
    "image = cv2.imread(load_data(training_dir, testing_dir, label_file, target_size=(150, 150)))  # 이미지 파일 경로를 넣으세요.\n",
    "image = cv2.cvtColor(image, cv2.COLOR_BGR2RGB)  # OpenCV는 기본적으로 BGR로 읽으므로 RGB로 변환\n",
    "\n",
    "# 이미지의 색상 채널을 추출\n",
    "r, g, b = cv2.split(image)\n",
    "\n",
    "# 1. 적외선 효과를 위한 채널 조정\n",
    "# 초록색 채널 강조하고 파란색 채널을 줄임\n",
    "g = cv2.add(g, 100)  # 초록색 채널을 강화\n",
    "b = cv2.subtract(b, 100)  # 파란색 채널을 줄임\n",
    "\n",
    "# 2. 채널 재결합\n",
    "infrated_image = cv2.merge([r, g, b])\n",
    "\n",
    "# 3. 이미지 밝기 및 대비 조정\n",
    "# 밝기 및 대비를 위해 이미지의 값 조정 (임의로 조정할 수 있음)\n",
    "infrated_image = cv2.convertScaleAbs(infrated_image, alpha=1.5, beta=50)\n",
    "\n",
    "# 4. 최종 결과를 시각화\n",
    "plt.imshow(infrated_image)\n",
    "plt.axis('off')  # 축 숨기기\n",
    "plt.show()\n",
    "\n",
    "# 결과 이미지 저장\n",
    "cv2.imwrite('infrated_image.jpg', cv2.cvtColor(infrated_image, cv2.COLOR_RGB2BGR))"
   ]
  }
 ],
 "metadata": {
  "kernelspec": {
   "display_name": "assignment",
   "language": "python",
   "name": "python3"
  },
  "language_info": {
   "codemirror_mode": {
    "name": "ipython",
    "version": 3
   },
   "file_extension": ".py",
   "mimetype": "text/x-python",
   "name": "python",
   "nbconvert_exporter": "python",
   "pygments_lexer": "ipython3",
   "version": "3.10.13"
  }
 },
 "nbformat": 4,
 "nbformat_minor": 2
}
