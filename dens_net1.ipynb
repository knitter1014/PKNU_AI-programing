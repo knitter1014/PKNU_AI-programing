{
 "cells": [
  {
   "cell_type": "code",
   "execution_count": 3,
   "metadata": {},
   "outputs": [],
   "source": [
    "import tensorflow as tf\n",
    "from keras.layers import Conv2D, Dense, Flatten, MaxPooling2D, GlobalAveragePooling2D, BatchNormalization, Activation, Dropout, Input, Concatenate\n",
    "from keras.models import Model\n",
    "from keras.utils import to_categorical\n",
    "import os\n",
    "import numpy as np\n",
    "from sklearn.preprocessing import LabelEncoder\n",
    "import json\n",
    "import time"
   ]
  },
  {
   "cell_type": "code",
   "execution_count": 18,
   "metadata": {},
   "outputs": [],
   "source": [
    "import matplotlib.pyplot as plt"
   ]
  },
  {
   "cell_type": "code",
   "execution_count": null,
   "metadata": {},
   "outputs": [],
   "source": [
    "# Dense Block 정의\n",
    "def dense_block(x, num_layers, growth_rate):\n",
    "    for i in range(num_layers):\n",
    "        bn = BatchNormalization()(x)\n",
    "        act = Activation('relu')(bn)\n",
    "        conv = Conv2D(growth_rate, kernel_size=(3, 3), padding='same')(act)\n",
    "        x = Concatenate()([x, conv])\n",
    "    return x"
   ]
  },
  {
   "cell_type": "code",
   "execution_count": null,
   "metadata": {},
   "outputs": [],
   "source": [
    "# Transition Layer 정의\n",
    "def transition_layer(x, reduction):\n",
    "    bn = BatchNormalization()(x)\n",
    "    act = Activation('relu')(bn)\n",
    "    num_filters = int(x.shape[-1] * reduction)\n",
    "    conv = Conv2D(num_filters, kernel_size=(1, 1), padding='same')(act)\n",
    "    x = MaxPooling2D(pool_size=(2, 2), strides=(2, 2))(conv)\n",
    "    return x"
   ]
  },
  {
   "cell_type": "code",
   "execution_count": null,
   "metadata": {},
   "outputs": [],
   "source": [
    "# DenseNet 모델 정의\n",
    "def create_densenet(input_shape, num_classes, growth_rate=12, num_dense_blocks=3, num_layers_per_block=4, reduction=0.5):\n",
    "    inputs = Input(shape=input_shape)\n",
    "    x = Conv2D(2 * growth_rate, kernel_size=(3, 3), padding='same', activation='relu')(inputs)\n",
    "    for i in range(num_dense_blocks):\n",
    "        x = dense_block(x, num_layers=num_layers_per_block, growth_rate=growth_rate)\n",
    "        if i != num_dense_blocks - 1:\n",
    "            x = transition_layer(x, reduction=reduction)\n",
    "    x = GlobalAveragePooling2D()(x)\n",
    "    x = Dense(128, activation='relu')(x)\n",
    "    x = Dropout(0.5)(x)\n",
    "    outputs = Dense(num_classes, activation='softmax')(x)\n",
    "    return Model(inputs=inputs, outputs=outputs)\n"
   ]
  },
  {
   "cell_type": "code",
   "execution_count": null,
   "metadata": {},
   "outputs": [],
   "source": [
    "# 데이터 로드 및 전처리\n",
    "def load_labels_from_json(label_file):\n",
    "    with open(label_file, 'r') as f:\n",
    "        data = json.load(f)\n",
    "    \n",
    "    image_paths = []\n",
    "    labels = []\n",
    "    for file_info in data['files']:\n",
    "        image_paths.append(file_info['path'])\n",
    "        labels.append(file_info['label']['label'])\n",
    "    \n",
    "    return image_paths, labels"
   ]
  },
  {
   "cell_type": "code",
   "execution_count": null,
   "metadata": {},
   "outputs": [],
   "source": [
    "# 이미지 로드 및 전처리\n",
    "def load_images_from_paths(image_paths, labels, target_size=(150, 150)):\n",
    "    label_encoder = LabelEncoder()\n",
    "    encoded_labels = label_encoder.fit_transform(labels)  # 레이블을 정수로 변환\n",
    "    \n",
    "    images = []\n",
    "    for img_path in image_paths:\n",
    "        img = tf.keras.preprocessing.image.load_img(img_path, target_size=target_size)\n",
    "        img_array = tf.keras.preprocessing.image.img_to_array(img) / 255.0  # 이미지를 정규화\n",
    "        images.append(img_array)\n",
    "    \n",
    "    return np.array(images), np.array(encoded_labels), label_encoder.classes_\n",
    "\n",
    "def load_data(training_dir, testing_dir, label_file, target_size=(150, 150)):\n",
    "    # 레이블 로드\n",
    "    image_paths, labels = load_labels_from_json(label_file)\n",
    "    \n",
    "    # 훈련 데이터와 테스트 데이터 분리\n",
    "    train_image_paths = [path for path in image_paths if path.startswith('training')]\n",
    "    test_image_paths = [path for path in image_paths if path.startswith('testing')]\n",
    "    \n",
    "    train_labels = [labels[i] for i, path in enumerate(image_paths) if path.startswith('training')]\n",
    "    test_labels = [labels[i] for i, path in enumerate(image_paths) if path.startswith('testing')]\n",
    "    \n",
    "    # 이미지 로드 및 레이블 인코딩\n",
    "    x_train, y_train, classes = load_images_from_paths(train_image_paths, train_labels, target_size)\n",
    "    x_test, y_test, _ = load_images_from_paths(test_image_paths, test_labels, target_size)\n",
    "    \n",
    "    y_train = to_categorical(y_train, len(classes))\n",
    "    y_test = to_categorical(y_test, len(classes))\n",
    "    \n",
    "    return (x_train, y_train), (x_test, y_test), len(classes)"
   ]
  },
  {
   "cell_type": "code",
   "execution_count": null,
   "metadata": {},
   "outputs": [],
   "source": [
    "# 경로 설정\n",
    "training_dir = \"./training\"\n",
    "testing_dir = \"./testing\"\n",
    "label_file = \"./info.labels\""
   ]
  },
  {
   "cell_type": "code",
   "execution_count": null,
   "metadata": {},
   "outputs": [],
   "source": [
    "# 데이터 로드\n",
    "(x_train, y_train), (x_test, y_test), num_classes = load_data(training_dir, testing_dir, label_file)"
   ]
  },
  {
   "cell_type": "code",
   "execution_count": null,
   "metadata": {},
   "outputs": [],
   "source": [
    "# 모델 생성 및 컴파일\n",
    "input_shape = (150, 150, 3)\n",
    "model = create_densenet(input_shape=input_shape, num_classes=num_classes)\n",
    "model.compile(optimizer='adam', loss='categorical_crossentropy', metrics=['accuracy'])"
   ]
  },
  {
   "cell_type": "code",
   "execution_count": 12,
   "metadata": {},
   "outputs": [
    {
     "name": "stdout",
     "output_type": "stream",
     "text": [
      "Epoch 1/10\n",
      "\u001b[1m52/52\u001b[0m \u001b[32m━━━━━━━━━━━━━━━━━━━━\u001b[0m\u001b[37m\u001b[0m \u001b[1m473s\u001b[0m 8s/step - accuracy: 0.5564 - loss: 1.2195 - val_accuracy: 0.4169 - val_loss: 1.5114\n",
      "Epoch 2/10\n",
      "\u001b[1m52/52\u001b[0m \u001b[32m━━━━━━━━━━━━━━━━━━━━\u001b[0m\u001b[37m\u001b[0m \u001b[1m390s\u001b[0m 8s/step - accuracy: 0.7720 - loss: 0.6646 - val_accuracy: 0.3229 - val_loss: 2.0037\n",
      "Epoch 3/10\n",
      "\u001b[1m52/52\u001b[0m \u001b[32m━━━━━━━━━━━━━━━━━━━━\u001b[0m\u001b[37m\u001b[0m \u001b[1m419s\u001b[0m 8s/step - accuracy: 0.7993 - loss: 0.5915 - val_accuracy: 0.3542 - val_loss: 2.1043\n",
      "Epoch 4/10\n",
      "\u001b[1m52/52\u001b[0m \u001b[32m━━━━━━━━━━━━━━━━━━━━\u001b[0m\u001b[37m\u001b[0m \u001b[1m417s\u001b[0m 8s/step - accuracy: 0.8395 - loss: 0.4680 - val_accuracy: 0.5012 - val_loss: 1.2561\n",
      "Epoch 5/10\n",
      "\u001b[1m52/52\u001b[0m \u001b[32m━━━━━━━━━━━━━━━━━━━━\u001b[0m\u001b[37m\u001b[0m \u001b[1m396s\u001b[0m 8s/step - accuracy: 0.8559 - loss: 0.4236 - val_accuracy: 0.5494 - val_loss: 1.2383\n",
      "Epoch 6/10\n",
      "\u001b[1m52/52\u001b[0m \u001b[32m━━━━━━━━━━━━━━━━━━━━\u001b[0m\u001b[37m\u001b[0m \u001b[1m410s\u001b[0m 8s/step - accuracy: 0.8987 - loss: 0.3277 - val_accuracy: 0.5205 - val_loss: 2.0711\n",
      "Epoch 7/10\n",
      "\u001b[1m52/52\u001b[0m \u001b[32m━━━━━━━━━━━━━━━━━━━━\u001b[0m\u001b[37m\u001b[0m \u001b[1m403s\u001b[0m 8s/step - accuracy: 0.8820 - loss: 0.3385 - val_accuracy: 0.6940 - val_loss: 1.0262\n",
      "Epoch 8/10\n",
      "\u001b[1m52/52\u001b[0m \u001b[32m━━━━━━━━━━━━━━━━━━━━\u001b[0m\u001b[37m\u001b[0m \u001b[1m358s\u001b[0m 7s/step - accuracy: 0.8892 - loss: 0.3223 - val_accuracy: 0.6916 - val_loss: 1.0728\n",
      "Epoch 9/10\n",
      "\u001b[1m52/52\u001b[0m \u001b[32m━━━━━━━━━━━━━━━━━━━━\u001b[0m\u001b[37m\u001b[0m \u001b[1m338s\u001b[0m 7s/step - accuracy: 0.8854 - loss: 0.3258 - val_accuracy: 0.6458 - val_loss: 1.7779\n",
      "Epoch 10/10\n",
      "\u001b[1m52/52\u001b[0m \u001b[32m━━━━━━━━━━━━━━━━━━━━\u001b[0m\u001b[37m\u001b[0m \u001b[1m330s\u001b[0m 6s/step - accuracy: 0.9006 - loss: 0.3061 - val_accuracy: 0.5807 - val_loss: 1.4957\n"
     ]
    }
   ],
   "source": [
    "# 모델 학습 및 저장\n",
    "start_time = time.time()\n",
    "model.fit(x_train, y_train, epochs=10, batch_size=32, validation_data=(x_test, y_test))\n",
    "end_time = time.time()"
   ]
  },
  {
   "cell_type": "code",
   "execution_count": 13,
   "metadata": {},
   "outputs": [
    {
     "name": "stdout",
     "output_type": "stream",
     "text": [
      "모델 학습 시간: 3935.97초\n"
     ]
    }
   ],
   "source": [
    "# 학습 시간 출력\n",
    "print(f\"모델 학습 시간: {end_time - start_time:.2f}초\")"
   ]
  },
  {
   "cell_type": "code",
   "execution_count": 14,
   "metadata": {},
   "outputs": [
    {
     "name": "stderr",
     "output_type": "stream",
     "text": [
      "WARNING:absl:You are saving your model as an HDF5 file via `model.save()` or `keras.saving.save_model(model)`. This file format is considered legacy. We recommend using instead the native Keras format, e.g. `model.save('my_model.keras')` or `keras.saving.save_model(model, 'my_model.keras')`. \n"
     ]
    },
    {
     "name": "stdout",
     "output_type": "stream",
     "text": [
      "모델이 저장 완료\n"
     ]
    }
   ],
   "source": [
    "# 모델 저장\n",
    "model.save('densenet_custom.h5')\n",
    "print(\"모델이 저장 완료\")"
   ]
  },
  {
   "cell_type": "code",
   "execution_count": 15,
   "metadata": {},
   "outputs": [
    {
     "ename": "NameError",
     "evalue": "name 'loss' is not defined",
     "output_type": "error",
     "traceback": [
      "\u001b[1;31m---------------------------------------------------------------------------\u001b[0m",
      "\u001b[1;31mNameError\u001b[0m                                 Traceback (most recent call last)",
      "Cell \u001b[1;32mIn[15], line 1\u001b[0m\n\u001b[1;32m----> 1\u001b[0m \u001b[38;5;28mprint\u001b[39m(\u001b[38;5;124mf\u001b[39m\u001b[38;5;124m\"\u001b[39m\u001b[38;5;124mloss: \u001b[39m\u001b[38;5;132;01m{\u001b[39;00m\u001b[43mloss\u001b[49m\u001b[38;5;132;01m:\u001b[39;00m\u001b[38;5;124m.5f\u001b[39m\u001b[38;5;132;01m}\u001b[39;00m\u001b[38;5;124m\"\u001b[39m)\n\u001b[0;32m      2\u001b[0m \u001b[38;5;28mprint\u001b[39m(\u001b[38;5;124mf\u001b[39m\u001b[38;5;124m\"\u001b[39m\u001b[38;5;124maccuracy: \u001b[39m\u001b[38;5;132;01m{\u001b[39;00maccuracy\u001b[38;5;241m*\u001b[39m\u001b[38;5;241m100\u001b[39m\u001b[38;5;132;01m:\u001b[39;00m\u001b[38;5;124m.2f\u001b[39m\u001b[38;5;132;01m}\u001b[39;00m\u001b[38;5;124m%\u001b[39m\u001b[38;5;124m\"\u001b[39m)\n",
      "\u001b[1;31mNameError\u001b[0m: name 'loss' is not defined"
     ]
    }
   ],
   "source": [
    "print(f\"loss: {loss:.5f}\")\n",
    "print(f\"accuracy: {accuracy*100:.2f}%\")"
   ]
  }
 ],
 "metadata": {
  "kernelspec": {
   "display_name": "assignment",
   "language": "python",
   "name": "python3"
  },
  "language_info": {
   "codemirror_mode": {
    "name": "ipython",
    "version": 3
   },
   "file_extension": ".py",
   "mimetype": "text/x-python",
   "name": "python",
   "nbconvert_exporter": "python",
   "pygments_lexer": "ipython3",
   "version": "3.10.13"
  }
 },
 "nbformat": 4,
 "nbformat_minor": 2
}
